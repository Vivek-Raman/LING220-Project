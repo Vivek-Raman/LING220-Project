{
 "cells": [
  {
   "cell_type": "code",
   "execution_count": 8,
   "metadata": {
    "_cell_guid": "b1076dfc-b9ad-4769-8c92-a6c4dae69d19",
    "_uuid": "8f2839f25d086af736a60e9eeb907d3b93b6e0e5",
    "execution": {
     "iopub.execute_input": "2025-04-22T04:01:39.567898Z",
     "iopub.status.busy": "2025-04-22T04:01:39.567592Z",
     "iopub.status.idle": "2025-04-22T04:01:39.576801Z",
     "shell.execute_reply": "2025-04-22T04:01:39.575797Z",
     "shell.execute_reply.started": "2025-04-22T04:01:39.567875Z"
    },
    "trusted": true
   },
   "outputs": [
    {
     "name": "stdout",
     "output_type": "stream",
     "text": [
      "./datasets/.gitignore\n",
      "./datasets/wikibooks-dataset/wikibooks.sqlite\n"
     ]
    }
   ],
   "source": [
    "# PATH = '/kaggle/input'\n",
    "PATH = './datasets'\n",
    "\n",
    "import os\n",
    "for dirname, _, filenames in os.walk(PATH):\n",
    "  for filename in filenames:\n",
    "    print(os.path.join(dirname, filename))\n"
   ]
  },
  {
   "cell_type": "markdown",
   "metadata": {},
   "source": [
    "# Import dataset\n",
    "\n",
    "Dataset used: https://www.kaggle.com/datasets/dhruvildave/wikibooks-dataset\n"
   ]
  },
  {
   "cell_type": "code",
   "execution_count": 9,
   "metadata": {
    "execution": {
     "iopub.execute_input": "2025-04-22T04:01:39.578713Z",
     "iopub.status.busy": "2025-04-22T04:01:39.578418Z"
    },
    "trusted": true
   },
   "outputs": [],
   "source": [
    "import pandas as pd\n",
    "import sqlite3\n",
    "\n",
    "db_conn = sqlite3.connect(f'{PATH}/wikibooks-dataset/wikibooks.sqlite')\n"
   ]
  },
  {
   "cell_type": "code",
   "execution_count": 10,
   "metadata": {},
   "outputs": [
    {
     "data": {
      "text/html": [
       "<div>\n",
       "<style scoped>\n",
       "    .dataframe tbody tr th:only-of-type {\n",
       "        vertical-align: middle;\n",
       "    }\n",
       "\n",
       "    .dataframe tbody tr th {\n",
       "        vertical-align: top;\n",
       "    }\n",
       "\n",
       "    .dataframe thead th {\n",
       "        text-align: right;\n",
       "    }\n",
       "</style>\n",
       "<table border=\"1\" class=\"dataframe\">\n",
       "  <thead>\n",
       "    <tr style=\"text-align: right;\">\n",
       "      <th></th>\n",
       "      <th>title</th>\n",
       "      <th>url</th>\n",
       "      <th>abstract</th>\n",
       "      <th>body_text</th>\n",
       "      <th>body_html</th>\n",
       "    </tr>\n",
       "  </thead>\n",
       "  <tbody>\n",
       "    <tr>\n",
       "      <th>0</th>\n",
       "      <td>Wikibooks: Radiation Oncology/NHL/CLL-SLL</td>\n",
       "      <td>https://en.wikibooks.org/wiki/Radiation_Oncolo...</td>\n",
       "      <td>Chronic Lymphocytic Leukemia and Small Lymphoc...</td>\n",
       "      <td>Front Page: Radiation Oncology | RTOG Trials |...</td>\n",
       "      <td>&lt;div class=\"mw-parser-output\"&gt;&lt;table width=\"10...</td>\n",
       "    </tr>\n",
       "    <tr>\n",
       "      <th>1</th>\n",
       "      <td>Wikibooks: Romanian/Lesson 9</td>\n",
       "      <td>https://en.wikibooks.org/wiki/Romanian/Lesson_9</td>\n",
       "      <td>==Băuturi/Beverages==</td>\n",
       "      <td>Băuturi/Beverages[edit | edit source]\\nTea : C...</td>\n",
       "      <td>&lt;div class=\"mw-parser-output\"&gt;&lt;h2&gt;&lt;span id=\"B....</td>\n",
       "    </tr>\n",
       "    <tr>\n",
       "      <th>2</th>\n",
       "      <td>Wikibooks: Karrigell</td>\n",
       "      <td>https://en.wikibooks.org/wiki/Karrigell</td>\n",
       "      <td>Karrigell is an open Source Python web framewo...</td>\n",
       "      <td>Karrigell is an open Source Python web framewo...</td>\n",
       "      <td>&lt;div class=\"mw-parser-output\"&gt;&lt;p&gt;Karrigell is ...</td>\n",
       "    </tr>\n",
       "    <tr>\n",
       "      <th>3</th>\n",
       "      <td>Wikibooks: The Pyrogenesis Engine/0 A.D./GuiSe...</td>\n",
       "      <td>https://en.wikibooks.org/wiki/The_Pyrogenesis_...</td>\n",
       "      <td>====setupUnitPanel====</td>\n",
       "      <td>setupUnitPanel[edit | edit source]\\nHelper fun...</td>\n",
       "      <td>&lt;div class=\"mw-parser-output\"&gt;&lt;h4&gt;&lt;span class=...</td>\n",
       "    </tr>\n",
       "    <tr>\n",
       "      <th>4</th>\n",
       "      <td>Wikibooks: LMIs in Control/pages/Exterior Coni...</td>\n",
       "      <td>https://en.wikibooks.org/wiki/LMIs_in_Control/...</td>\n",
       "      <td>== The Concept ==</td>\n",
       "      <td>Contents\\n\\n1 The Concept\\n2 The System\\n3 The...</td>\n",
       "      <td>&lt;div class=\"mw-parser-output\"&gt;&lt;div id=\"toc\" cl...</td>\n",
       "    </tr>\n",
       "  </tbody>\n",
       "</table>\n",
       "</div>"
      ],
      "text/plain": [
       "                                               title  \\\n",
       "0          Wikibooks: Radiation Oncology/NHL/CLL-SLL   \n",
       "1                       Wikibooks: Romanian/Lesson 9   \n",
       "2                               Wikibooks: Karrigell   \n",
       "3  Wikibooks: The Pyrogenesis Engine/0 A.D./GuiSe...   \n",
       "4  Wikibooks: LMIs in Control/pages/Exterior Coni...   \n",
       "\n",
       "                                                 url  \\\n",
       "0  https://en.wikibooks.org/wiki/Radiation_Oncolo...   \n",
       "1    https://en.wikibooks.org/wiki/Romanian/Lesson_9   \n",
       "2            https://en.wikibooks.org/wiki/Karrigell   \n",
       "3  https://en.wikibooks.org/wiki/The_Pyrogenesis_...   \n",
       "4  https://en.wikibooks.org/wiki/LMIs_in_Control/...   \n",
       "\n",
       "                                            abstract  \\\n",
       "0  Chronic Lymphocytic Leukemia and Small Lymphoc...   \n",
       "1                              ==Băuturi/Beverages==   \n",
       "2  Karrigell is an open Source Python web framewo...   \n",
       "3                             ====setupUnitPanel====   \n",
       "4                                  == The Concept ==   \n",
       "\n",
       "                                           body_text  \\\n",
       "0  Front Page: Radiation Oncology | RTOG Trials |...   \n",
       "1  Băuturi/Beverages[edit | edit source]\\nTea : C...   \n",
       "2  Karrigell is an open Source Python web framewo...   \n",
       "3  setupUnitPanel[edit | edit source]\\nHelper fun...   \n",
       "4  Contents\\n\\n1 The Concept\\n2 The System\\n3 The...   \n",
       "\n",
       "                                           body_html  \n",
       "0  <div class=\"mw-parser-output\"><table width=\"10...  \n",
       "1  <div class=\"mw-parser-output\"><h2><span id=\"B....  \n",
       "2  <div class=\"mw-parser-output\"><p>Karrigell is ...  \n",
       "3  <div class=\"mw-parser-output\"><h4><span class=...  \n",
       "4  <div class=\"mw-parser-output\"><div id=\"toc\" cl...  "
      ]
     },
     "execution_count": 10,
     "metadata": {},
     "output_type": "execute_result"
    }
   ],
   "source": [
    "raw_data = pd.read_sql_query('select * from en limit 5', db_conn)\n",
    "raw_data\n"
   ]
  }
 ],
 "metadata": {
  "kaggle": {
   "accelerator": "none",
   "dataSources": [
    {
     "datasetId": 1167113,
     "sourceId": 2730445,
     "sourceType": "datasetVersion"
    }
   ],
   "dockerImageVersionId": 31012,
   "isGpuEnabled": false,
   "isInternetEnabled": false,
   "language": "python",
   "sourceType": "notebook"
  },
  "kernelspec": {
   "display_name": "base",
   "language": "python",
   "name": "python3"
  },
  "language_info": {
   "codemirror_mode": {
    "name": "ipython",
    "version": 3
   },
   "file_extension": ".py",
   "mimetype": "text/x-python",
   "name": "python",
   "nbconvert_exporter": "python",
   "pygments_lexer": "ipython3",
   "version": "3.12.9"
  }
 },
 "nbformat": 4,
 "nbformat_minor": 4
}
